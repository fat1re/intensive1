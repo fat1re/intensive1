{
  "nbformat": 4,
  "nbformat_minor": 0,
  "metadata": {
    "colab": {
      "provenance": []
    },
    "kernelspec": {
      "name": "python3",
      "display_name": "Python 3"
    },
    "language_info": {
      "name": "python"
    }
  },
  "cells": [
    {
      "cell_type": "code",
      "execution_count": null,
      "metadata": {
        "id": "nVHmcO34WKtg"
      },
      "outputs": [],
      "source": [
        "import cianparser\n",
        "import pandas as pd\n",
        "\n",
        "moscow_parser = cianparser.CianParser(location=(\"Руза\"))\n",
        "data = moscow_parser.get_flats(deal_type=\"sale\", rooms=(\"all\"), with_saving_csv=True, additional_settings={\"start_page\":1, \"end_page\":1000})\n",
        "\n",
        "print(data[0])\n",
        "file_list = [\"zxcqwe.csv\",\"qwezxc.csv\"]\n",
        "\n",
        "combined_df = pd.DataFrame()\n",
        "\n",
        "for file in file_list:\n",
        "\n",
        "    df = pd.read_csv(file,on_bad_lines='skip')\n",
        "\n",
        "    combined_df = pd.concat([combined_df, df], ignore_index=True)\n",
        "combined_df.to_csv('combined_file.csv', index=False)"
      ]
    }
  ]
}