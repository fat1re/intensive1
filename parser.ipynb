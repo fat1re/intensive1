{
  "cells": [
    {
      "cell_type": "code",
      "execution_count": null,
      "metadata": {
        "id": "nVHmcO34WKtg"
      },
      "outputs": [],
      "source": [
        "import cianparser\n",
        "import pandas as pd\n",
        "\n",
        "moscow_parser = cianparser.CianParser(location=(\"Руза\"))\n",
        "data = moscow_parser.get_flats(deal_type=\"sale\", rooms=(\"all\"), with_saving_csv=True, additional_settings={\"start_page\":1, \"end_page\":1000})\n",
        "\n",
        "print(data[0])"
      ]
    }
  ],
  "metadata": {
    "colab": {
      "provenance": []
    },
    "kernelspec": {
      "display_name": "Python 3",
      "name": "python3"
    },
    "language_info": {
      "name": "python"
    }
  },
  "nbformat": 4,
  "nbformat_minor": 0
}
